{
    "cells": [
        {
            "cell_type": "markdown",
            "id": "ac622319",
            "metadata": {},
            "source": [
                "# Descriptive statistics problems"
            ]
        },
        {
            "cell_type": "markdown",
            "id": "aa8993e4",
            "metadata": {},
            "source": [
                "### Exercise 1"
            ]
        },
        {
            "cell_type": "markdown",
            "id": "5e0ab0d5",
            "metadata": {},
            "source": [
                "We will use Numpy to obtain information to describe statistically.\n",
                "\n",
                "- Generate an array of 100 elements following a normal distribution.\n",
                "- Generate an array of 100 elements following a chi-square distribution with 3 degrees of freedom.\n",
                "- Calculate the main metrics and statistical measures that best describe the two vectors."
            ]
        },
        {
            "cell_type": "code",
            "execution_count": 9,
            "id": "34720ab6",
            "metadata": {},
            "outputs": [
                {
                    "name": "stdout",
                    "output_type": "stream",
                    "text": [
                        "[-0.6349445   1.3309097  -0.22130002 -0.85749094  0.01652107 -0.56714982\n",
                        "  0.31839175  0.4455383  -0.52283557 -0.75286278 -0.46328457  0.31096277\n",
                        "  1.55803303  0.93122038 -2.25394043  1.69517961  1.12180836 -1.25378719\n",
                        " -0.19051934 -1.48555727  1.25688025  0.38136485 -0.40416465  2.09710168\n",
                        "  3.36327778 -0.02966233  0.4532429   1.46499183 -0.32318549  0.6346025\n",
                        " -0.19214739  1.09838903 -2.06817245  0.62042011 -0.42218745 -0.02893388\n",
                        "  0.76671684  0.7576765  -0.33690834 -0.2546979  -0.17682069  0.41456297\n",
                        "  1.04735649 -0.22672116 -0.67039351  1.44702259 -1.44787525  2.04539453\n",
                        " -0.53280766 -0.14034672  1.03777645  0.43771482 -0.647228    1.11670553\n",
                        "  1.13132971 -0.19568171 -0.46591941 -0.51246059  0.61490264 -0.38472516\n",
                        "  0.19813597  0.40700618  0.02997609 -0.41470976  0.88083431  0.78279339\n",
                        "  0.68326383 -0.42628295  1.19573473  0.01487253  0.3100193   0.60768552\n",
                        " -1.35655421 -2.90276838 -0.12125159  0.64551541  0.79133123  1.17931167\n",
                        "  0.22038786 -1.25883029 -1.51994418 -0.14974904  0.16703168  0.44643037\n",
                        "  1.84490476  0.37450335 -1.10040606  1.06957858 -2.13927147  0.69609806\n",
                        "  0.06368794  0.49637835  1.58955089  0.9915373   0.44016172 -1.27641487\n",
                        "  0.64917277  0.47452687 -0.71289394 -1.11112072]\n",
                        "[ 2.08121747  0.42583299  2.13989376  6.07511296  5.28464963  0.23778365\n",
                        "  1.73825588  0.09433279  1.67541604  1.7495023   3.04626153  2.91626208\n",
                        "  1.28907294  1.89123403  3.11512023  3.06453186  0.33110619  0.38439402\n",
                        "  2.28957232  6.87285368  0.62693522  1.66883934  2.06260387  2.49044014\n",
                        "  7.8204312   2.76518859  4.193566    0.61092319  8.17813847  1.54027763\n",
                        "  1.29706894  1.72983708  1.71317529  5.07508726  2.19270353  2.01838421\n",
                        "  3.35628181  4.69399394  5.45228318  4.29444633  4.89737604  2.52985468\n",
                        "  2.62413149  3.0720239   0.75934643  7.46248193  2.01499827  1.06183394\n",
                        " 12.0685399   3.73098248  2.65348257  2.13186235  4.50335381  1.60838308\n",
                        "  5.78409417  1.41021251  0.91643444  0.49463247  2.75602832  1.52713173\n",
                        "  4.26883973  3.60301101  8.67074823  1.45926712  0.62538055  0.75781926\n",
                        "  3.08808537  1.6783706   5.8975641   7.83201103  0.78405921  3.22625408\n",
                        "  2.10741153  4.88795592  0.38464577  2.32071769  2.82380949  2.25539074\n",
                        "  7.99007673  2.15062595  1.28184037  5.55098459  1.33673884  1.10978401\n",
                        "  0.47765139  6.4083404   6.92646805  0.62216552  1.19971633  2.94977784\n",
                        "  5.36097358  3.36214977  1.33479772  2.04410162  6.5211694   1.01257532\n",
                        "  1.96502904  0.63533651  4.93722959  4.05759167]\n",
                        "0.14011516051405526\n",
                        "3.0039666171859176\n",
                        "0.20926191566766586\n",
                        "2.224047135488515\n",
                        "-0.6349444988340202\n",
                        "2.081217466336905\n",
                        "1.0390018748978873\n",
                        "5.370416903682108\n",
                        "1.014205036542862\n",
                        "2.3057998036788203\n"
                    ]
                }
            ],
            "source": [
                "# TODO\n",
                "import numpy as np\n",
                "import statistics as stats\n",
                "\n",
                "normal = np.random.normal(size=100)\n",
                "print(normal)\n",
                "chi_squared = np.random.chisquare(3, 100)\n",
                "print(chi_squared)\n",
                "\n",
                "media1 = np.mean(normal)\n",
                "print(media1)\n",
                "media2 = np.mean(chi_squared)\n",
                "print(media2)\n",
                "\n",
                "mediana1 = np.median(normal)\n",
                "print(mediana1)\n",
                "mediana2 = np.median(chi_squared)\n",
                "print(mediana2)\n",
                "\n",
                "moda1 = stats.mode(normal)\n",
                "print(moda1)\n",
                "moda2 = stats.mode(chi_squared)\n",
                "print(moda2)\n",
                "\n",
                "varianza1 = stats.variance(normal)\n",
                "print(varianza1)\n",
                "varianza2 = stats.variance(chi_squared)\n",
                "print(varianza2)\n",
                "\n",
                "desviacion1 = np.std(normal)\n",
                "print(desviacion1)\n",
                "desviacion2 = np.std(chi_squared)\n",
                "print(desviacion2)\n",
                "\n"
            ]
        },
        {
            "cell_type": "markdown",
            "id": "46c70c3d",
            "metadata": {},
            "source": [
                "### Exercise 2\n",
                "\n",
                "Write a Python program to calculate the standard deviation of the following data:\n",
                "\n",
                "```py\n",
                "data = [4, 2, 5, 8, 6]\n",
                "```"
            ]
        },
        {
            "cell_type": "code",
            "execution_count": 7,
            "id": "d590308e",
            "metadata": {},
            "outputs": [
                {
                    "name": "stdout",
                    "output_type": "stream",
                    "text": [
                        "2.0\n"
                    ]
                }
            ],
            "source": [
                "# TODO\n",
                "\n",
                "import numpy as np\n",
                "\n",
                "data = [4, 2, 5, 8, 6]\n",
                "desviacion_estandar = np.std (data)\n",
                "print(desviacion_estandar)"
            ]
        }
    ],
    "metadata": {
        "interpreter": {
            "hash": "9248718ffe6ce6938b217e69dbcc175ea21f4c6b28a317e96c05334edae734bb"
        },
        "kernelspec": {
            "display_name": "Python 3.9.12 ('ML-BOOTCAMP')",
            "language": "python",
            "name": "python3"
        },
        "language_info": {
            "codemirror_mode": {
                "name": "ipython",
                "version": 3
            },
            "file_extension": ".py",
            "mimetype": "text/x-python",
            "name": "python",
            "nbconvert_exporter": "python",
            "pygments_lexer": "ipython3",
            "version": "3.12.0"
        }
    },
    "nbformat": 4,
    "nbformat_minor": 5
}
